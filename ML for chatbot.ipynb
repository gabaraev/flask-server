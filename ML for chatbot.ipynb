{
 "cells": [
  {
   "cell_type": "code",
   "execution_count": 29,
   "id": "f3e19c5c",
   "metadata": {},
   "outputs": [
    {
     "name": "stdout",
     "output_type": "stream",
     "text": [
      "Привет\n",
      "{'general': 'Привет! Чем я могу тебе помочь?'}\n"
     ]
    }
   ],
   "source": [
    "import sys\n",
    "import pandas as pd\n",
    "import numpy as np\n",
    "from sklearn.feature_extraction.text import CountVectorizer\n",
    "from sklearn.decomposition import TruncatedSVD\n",
    "from sklearn.neighbors import BallTree\n",
    "from sklearn.base import BaseEstimator\n",
    "from sklearn.pipeline import make_pipeline\n",
    "\n",
    "\n",
    "def softmax(x):\n",
    "    proba = np.exp(-x)\n",
    "    return proba/ sum(proba)\n",
    "\n",
    "class NeighborSampler(BaseEstimator):\n",
    "    def __init__(self, k = 1, temperature = 1.0):\n",
    "        self.k = k\n",
    "        self.temperature = temperature\n",
    "    \n",
    "    def fit(self, X, y):\n",
    "        self.tree = BallTree(X)\n",
    "        self.y = np.array(y)\n",
    "    \n",
    "    def predict(self, X, random_state = None):\n",
    "        distances, indices = self.tree.query(X, return_distance = True, k = self.k)\n",
    "        result = []\n",
    "        for distance, index in zip(distances, indices):\n",
    "            result.append(np.random.choice(index, p = softmax(distance * self.temperature))) \n",
    "        return self.y[result]\n",
    "        \n",
    "    \n",
    "database = pd.read_csv('database.csv', sep = ';', on_bad_lines ='skip') # в первом аргументе необходимо указать путь до файла с данными\n",
    "\n",
    "\n",
    "vectorizer = CountVectorizer()\n",
    "vectorizer.fit(database.context_0)\n",
    "matrix = vectorizer.transform(database.context_0)\n",
    "\n",
    "svd = TruncatedSVD(n_components = 280)\n",
    "svd.fit(matrix)\n",
    "new_matrix = svd.transform(matrix)\n",
    "\n",
    "\n",
    "ns = NeighborSampler()\n",
    "ns.fit(new_matrix, database.resp)\n",
    "\n",
    "\n",
    "pipe = make_pipeline(vectorizer, svd, ns)\n",
    "\n",
    "\n",
    "request = sys.argv[1] # сообщение пользователя\n",
    "\n",
    "answer = pipe.predict([request])\n",
    "ns.fit(new_matrix, database.topic)                    \n",
    "topic = pipe.predict([request])                     \n",
    "answer_and_topic = { topic[0] : answer[0]}\n",
    "\n",
    "print(answer_and_topic) # выведет в формате {'general': 'Привет! Чем я могу тебе помочь?'}"
   ]
  }
 ],
 "metadata": {
  "kernelspec": {
   "display_name": "Python 3.10.8 64-bit",
   "language": "python",
   "name": "python3"
  },
  "language_info": {
   "codemirror_mode": {
    "name": "ipython",
    "version": 3
   },
   "file_extension": ".py",
   "mimetype": "text/x-python",
   "name": "python",
   "nbconvert_exporter": "python",
   "pygments_lexer": "ipython3",
   "version": "3.10.8"
  },
  "vscode": {
   "interpreter": {
    "hash": "1a67f5ea3dc9268f50a393dd65c7fe2be64fdc9d7cdf150cb23f711ec9349944"
   }
  }
 },
 "nbformat": 4,
 "nbformat_minor": 5
}
